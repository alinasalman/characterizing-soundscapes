{
 "cells": [
  {
   "cell_type": "code",
   "execution_count": 3,
   "metadata": {},
   "outputs": [
    {
     "name": "stderr",
     "output_type": "stream",
     "text": [
      "C:\\Users\\alina\\AppData\\Local\\Temp\\ipykernel_22712\\4176861971.py:11: FutureWarning: get_duration() keyword argument 'filename' has been renamed to 'path' in version 0.10.0.\n",
      "\tThis alias will be removed in version 1.0.\n",
      "  duration = librosa.get_duration(filename=file_path)\n"
     ]
    }
   ],
   "source": [
    "import os\n",
    "import librosa\n",
    "import csv\n",
    "import pathlib\n",
    "\n",
    "def file_names(directory):\n",
    "    files = os.listdir(directory)\n",
    "    return files\n",
    "\n",
    "def get_duration(file_path):\n",
    "    duration = librosa.get_duration(filename=file_path)\n",
    "    return duration\n",
    "\n",
    "def get_sr(file_path):\n",
    "    sample_rate = librosa.get_samplerate(file_path)\n",
    "    return sample_rate\n",
    "\n",
    "# Define the data directory path using pathlib\n",
    "data_root = pathlib.Path.home() / 'Desktop' / 'Capstone Project'\n",
    "\n",
    "# Create a list to store rows of metadata\n",
    "metadata_rows = []\n",
    "\n",
    "# Define the folders for rainforest and gunshots\n",
    "folders = {\n",
    "    \"segmented_audio\": \"segments\",\n",
    "}\n",
    "\n",
    "# Iterate through each folder (rainforest and gunshots) in the data directory\n",
    "for folder_name, label in folders.items():\n",
    "    folder_path = data_root / folder_name\n",
    "    \n",
    "    if folder_path.is_dir():\n",
    "        # List the files in the current folder\n",
    "        file_names_list = file_names(folder_path)\n",
    "        \n",
    "        for file_name in file_names_list:\n",
    "            # Get the duration and sample rate for each audio file\n",
    "            audio_file_path = folder_path / file_name\n",
    "            sample_rate = get_sr(audio_file_path)\n",
    "            duration = get_duration(audio_file_path)\n",
    "            \n",
    "            # Create a row of metadata for this file\n",
    "            metadata_row = [str(audio_file_path), file_name, label, duration, sample_rate]\n",
    "            \n",
    "            # Append the row to the list of metadata rows\n",
    "            metadata_rows.append(metadata_row)\n",
    "\n",
    "# Define the CSV file path where you want to save the metadata\n",
    "csv_file_path = data_root / 'metadata.csv'\n",
    "\n",
    "# Write the metadata to a CSV file\n",
    "with open(csv_file_path, 'w', newline='') as csv_file:\n",
    "    csv_writer = csv.writer(csv_file)\n",
    "    \n",
    "    # Write the header row with column names\n",
    "    csv_writer.writerow(['File Path', 'File Name', 'Label', 'Duration (seconds)', 'Sample Rate (Hz)'])\n",
    "    \n",
    "    # Write the metadata rows\n",
    "    csv_writer.writerows(metadata_rows)\n",
    "\n",
    "print(f\"Metadata saved to {csv_file_path}\")\n"
   ]
  }
 ],
 "metadata": {
  "kernelspec": {
   "display_name": "base",
   "language": "python",
   "name": "python3"
  },
  "language_info": {
   "codemirror_mode": {
    "name": "ipython",
    "version": 3
   },
   "file_extension": ".py",
   "mimetype": "text/x-python",
   "name": "python",
   "nbconvert_exporter": "python",
   "pygments_lexer": "ipython3",
   "version": "3.11.4"
  }
 },
 "nbformat": 4,
 "nbformat_minor": 2
}
