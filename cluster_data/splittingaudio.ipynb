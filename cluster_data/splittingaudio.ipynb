{
 "cells": [
  {
   "cell_type": "code",
   "execution_count": 3,
   "metadata": {},
   "outputs": [
    {
     "name": "stdout",
     "output_type": "stream",
     "text": [
      "Audio splitting complete!\n"
     ]
    }
   ],
   "source": [
    "import pathlib\n",
    "from pydub import AudioSegment\n",
    "\n",
    "# Define the data directory path using pathlib\n",
    "data_root = pathlib.Path.home() / 'Desktop' / 'Capstone Project' / 'original_audio'\n",
    "\n",
    "# Find all audio files in the 'original_audio' directory\n",
    "audio_files = list(data_root.glob('*.wav'))\n",
    "\n",
    "# Check if there are audio files in the directory\n",
    "if not audio_files:\n",
    "    raise ValueError(\"No .wav files found in the 'original_audio' folder.\")\n",
    "\n",
    "# Duration of each segment in milliseconds (1 minute = 60,000 ms)\n",
    "segment_duration = 10 * 1000\n",
    "\n",
    "# Loop through each audio file and split into segments\n",
    "for input_audio_path in audio_files:\n",
    "    # Load the audio file\n",
    "    audio = AudioSegment.from_wav(str(input_audio_path))\n",
    "\n",
    "    # Split the audio into one-minute segments and save them in the same directory\n",
    "    for i, start_time in enumerate(range(0, len(audio), segment_duration)):\n",
    "        segment = audio[start_time:start_time + segment_duration]\n",
    "        segment_name = f\"{input_audio_path.stem}_segment_{i+1}.wav\"  # Use the original file name in the segment name\n",
    "        segment_path = pathlib.Path.home() / 'Desktop' / 'Capstone Project' / 'segmented_audio' / segment_name\n",
    "        segment.export(str(segment_path), format=\"wav\")\n",
    "\n",
    "print(\"Audio splitting complete!\")\n",
    "\n"
   ]
  }
 ],
 "metadata": {
  "kernelspec": {
   "display_name": "base",
   "language": "python",
   "name": "python3"
  },
  "language_info": {
   "codemirror_mode": {
    "name": "ipython",
    "version": 3
   },
   "file_extension": ".py",
   "mimetype": "text/x-python",
   "name": "python",
   "nbconvert_exporter": "python",
   "pygments_lexer": "ipython3",
   "version": "3.11.4"
  }
 },
 "nbformat": 4,
 "nbformat_minor": 2
}
