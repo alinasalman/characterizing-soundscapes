{
 "cells": [
  {
   "cell_type": "code",
   "execution_count": 1,
   "metadata": {},
   "outputs": [],
   "source": [
    "import os\n",
    "import numpy as np\n",
    "import pandas as pd\n",
    "import librosa\n",
    "\n",
    "def compute_shannon_index(audio, sr, n_fft=1024, hop_length=512):\n",
    "    S = np.abs(librosa.stft(audio, n_fft=n_fft, hop_length=hop_length))**2\n",
    "    energy_per_band = np.sum(S, axis=1)\n",
    "    total_energy = np.sum(energy_per_band)\n",
    "    proportions = energy_per_band / total_energy\n",
    "    proportions = proportions[proportions > 0]\n",
    "    shannon_index = -np.sum(proportions * np.log(proportions))\n",
    "    return shannon_index\n",
    "\n",
    "def process_audio_folder(folder_path, output_csv=\"shannon_indices.csv\"):\n",
    "    results = []\n",
    "    for filename in os.listdir(folder_path):\n",
    "        if filename.endswith(\".wav\"):\n",
    "            filepath = os.path.join(folder_path, filename)\n",
    "            audio, sr = librosa.load(filepath, sr=None)\n",
    "            shannon_index = compute_shannon_index(audio, sr)\n",
    "            results.append({\"filename\": filename, \"shannon_index\": shannon_index})\n",
    "    df = pd.DataFrame(results)\n",
    "    df.to_csv(output_csv, index=False)\n",
    "    print(f\"Shannon indices saved to {output_csv}\")\n",
    "\n",
    "# Example usage\n",
    "# process_audio_folder(\"path_to_your_audio_files_folder\")\n"
   ]
  },
  {
   "cell_type": "code",
   "execution_count": null,
   "metadata": {},
   "outputs": [],
   "source": []
  }
 ],
 "metadata": {
  "kernelspec": {
   "display_name": "Python 3",
   "language": "python",
   "name": "python3"
  },
  "language_info": {
   "codemirror_mode": {
    "name": "ipython",
    "version": 3
   },
   "file_extension": ".py",
   "mimetype": "text/x-python",
   "name": "python",
   "nbconvert_exporter": "python",
   "pygments_lexer": "ipython3",
   "version": "3.11.4"
  }
 },
 "nbformat": 4,
 "nbformat_minor": 2
}
